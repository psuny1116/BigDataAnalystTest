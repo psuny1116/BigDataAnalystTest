{
 "cells": [
  {
   "cell_type": "markdown",
   "metadata": {},
   "source": [
    "# boston 데이터"
   ]
  },
  {
   "cell_type": "markdown",
   "metadata": {},
   "source": [
    "## 1. boston 데이터 세트의 MEDV칼럼에 대해서 가장 작은 값부터 순서대로 10개 행을 출력해야 한다. 즉, 오름차순으로 정렬된 MEDV값에서 TOP 10을 구하시오."
   ]
  },
  {
   "cell_type": "code",
   "execution_count": 15,
   "metadata": {},
   "outputs": [
    {
     "name": "stdout",
     "output_type": "stream",
     "text": [
      "398    5.0\n",
      "405    5.0\n",
      "400    5.6\n",
      "399    6.3\n",
      "414    7.0\n",
      "489    7.0\n",
      "401    7.2\n",
      "385    7.2\n",
      "415    7.2\n",
      "387    7.4\n",
      "Name: MEDV, dtype: float64\n"
     ]
    }
   ],
   "source": [
    "# 시험장에선 다음과 같이 제출해야 함\n",
    "\n",
    "import pandas as pd\n",
    "\n",
    "data = pd.read_csv('boston.csv')\n",
    "\n",
    "print(data.sort_values(by = 'MEDV', ascending = True)['MEDV'].head(10))"
   ]
  },
  {
   "cell_type": "markdown",
   "metadata": {},
   "source": [
    "## 2. boston 데이터 세트의 RM 칼럼에 대한 결측치 처리를 평균값으로 대치하거나 삭제할 수 있다. RM칼럼의 결측치를 평균값으로 대치한 후에 산출된 표준편차 값과 결측치를 삭제한 후에 산출된 표준편차 값의 차이를 구하시오. 단, 최종적으로 출력하는 차이는 양수이다"
   ]
  },
  {
   "cell_type": "code",
   "execution_count": 28,
   "metadata": {},
   "outputs": [
    {
     "name": "stdout",
     "output_type": "stream",
     "text": [
      "0.010595546094104624\n"
     ]
    }
   ],
   "source": [
    "import pandas as pd\n",
    "\n",
    "data = pd.read_csv('boston.csv')\n",
    "\n",
    "print(abs(data['RM'].fillna(data['RM'].mean()).std() - data['RM'].dropna().std()))"
   ]
  },
  {
   "cell_type": "markdown",
   "metadata": {},
   "source": [
    "## 3. boston데이터세트의 ZN칼럼을 대상으로 ZN값의 평균값에서 표준편차의 1.5배보다 크거나 작은 ZN값의 합계를 구하시오."
   ]
  },
  {
   "cell_type": "code",
   "execution_count": 44,
   "metadata": {},
   "outputs": [
    {
     "name": "stdout",
     "output_type": "stream",
     "text": [
      "3462.5\n"
     ]
    }
   ],
   "source": [
    "import pandas as pd\n",
    "\n",
    "data = pd.read_csv('boston.csv')\n",
    "\n",
    "print(data[data['ZN'] > (data['ZN'].mean() + (data['ZN'].std() * 1.5))]['ZN'].sum() \n",
    "      + data[data['ZN'] < (data['ZN'].mean() - (data['ZN'].std() * 1.5))]['ZN'].sum())"
   ]
  },
  {
   "cell_type": "markdown",
   "metadata": {},
   "source": [
    "## 4. boston 데이터 세트에서 CHAS칼럼과 RAD칼럼을 제외한 칼럼에 한해서 칼럼별 IQR값을 구하시오. 단, 출력 구조는 2열이고 1열은 보스턴 데이터 세트의 칼럼 이름이 표시되어야 한다."
   ]
  },
  {
   "cell_type": "code",
   "execution_count": 87,
   "metadata": {},
   "outputs": [
    {
     "name": "stdout",
     "output_type": "stream",
     "text": [
      "CRIM         3.595038\n",
      "ZN          12.500000\n",
      "INDUS       12.910000\n",
      "NOX          0.175000\n",
      "RM           0.736000\n",
      "AGE         49.050000\n",
      "DIS          3.088250\n",
      "TAX        387.000000\n",
      "PTRATIO      2.800000\n",
      "B           20.847500\n",
      "LSTAT       10.005000\n",
      "MEDV         7.975000\n",
      "dtype: float64\n"
     ]
    }
   ],
   "source": [
    "import pandas as pd\n",
    "\n",
    "data = pd.read_csv('boston.csv')\n",
    "data_ex = data.drop(['CHAS', 'RAD'], axis = 1)\n",
    "\n",
    "# 칼럼별 IQR을 구하기 위해 describe()\n",
    "# print(data_ex.describe().iloc[[4, 6]])     # 4번, 6번행 데이터 추출\n",
    "\n",
    "iqr = data_ex.describe().iloc[[4, 6]].T    # 출력구조 변경\n",
    "print(iqr['75%'] - iqr['25%'])"
   ]
  },
  {
   "cell_type": "markdown",
   "metadata": {},
   "source": [
    "## 5. boston 데이터 세트의 MEDV 칼럼을 기준으로 30번째로 큰 값을 1번 ~ 29번째로 큰 값에 적용한다. 그리고 MEDV 칼럼의 평균값, 중위값, 최솟값, 최댓값 순으로 한 줄에 출력하시오."
   ]
  },
  {
   "cell_type": "code",
   "execution_count": 114,
   "metadata": {},
   "outputs": [
    {
     "name": "stdout",
     "output_type": "stream",
     "text": [
      "22.179644268774698 21.2 5.0 41.7\n"
     ]
    }
   ],
   "source": [
    "import pandas as pd\n",
    "\n",
    "data = pd.read_csv('boston.csv')\n",
    "medv = data['MEDV'].sort_values(ascending = False)\n",
    "medv_30 = medv.iloc[29]\n",
    "medv[0:29] = medv_30\n",
    "print(medv.mean(), medv.median(), medv.min(), medv.max())"
   ]
  },
  {
   "cell_type": "markdown",
   "metadata": {},
   "source": [
    "## 6. boston 데이터 세트의 TAX칼럼이 TAX칼럼의 중위값보다 큰 데이터를 대상으로, CHAS칼럼과 RAD 칼럼 순으로 그룹을 지은 후 각 그룹의 데이터 개수를 구하시오. 단, CHAS, RAD 칼럼별 데이터 개수는 COUNT라는 칼럼으로 출력합니다."
   ]
  },
  {
   "cell_type": "code",
   "execution_count": 123,
   "metadata": {},
   "outputs": [
    {
     "name": "stdout",
     "output_type": "stream",
     "text": [
      "          COUNT\n",
      "CHAS RAD       \n",
      "0    1        3\n",
      "     2        2\n",
      "     3        5\n",
      "     4       33\n",
      "     5       51\n",
      "     6       17\n",
      "     24     124\n",
      "1    5        7\n",
      "     24       8\n"
     ]
    }
   ],
   "source": [
    "import pandas as pd\n",
    "\n",
    "data = pd.read_csv('boston.csv')\n",
    "data_ex = data[data['TAX'] > data['TAX'].median()]\n",
    "data_ans = data_ex[['CHAS', 'RAD']].groupby(['CHAS', 'RAD'])['CHAS'].count()\n",
    "data_ans = pd.DataFrame(data_ans)\n",
    "data_ans.columns = ['COUNT']\n",
    "print(data_ans)"
   ]
  },
  {
   "cell_type": "markdown",
   "metadata": {},
   "source": [
    "## 7. boston 데이터 세트의 TAX 칼럼을 오름차순으로 정렬한 결과와 내림차순으로 정렬한 결과를 각각 구한다. 그리고 각 순번에 맞는 오름차순 값과 내림차순 값의 차이를 구하여 분산 값을 출력하시오."
   ]
  },
  {
   "cell_type": "code",
   "execution_count": 136,
   "metadata": {},
   "outputs": [
    {
     "data": {
      "text/plain": [
       "28490.5986459515"
      ]
     },
     "execution_count": 136,
     "metadata": {},
     "output_type": "execute_result"
    }
   ],
   "source": [
    "import pandas as pd\n",
    "\n",
    "data = pd.read_csv('boston.csv')\n",
    "data_asc = data['TAX'].sort_values(ascending = True).reset_index(drop = True)\n",
    "data_des = data['TAX'].sort_values(ascending = False).reset_index(drop = True)\n",
    "abs(data_asc - data_des).var()   "
   ]
  },
  {
   "cell_type": "markdown",
   "metadata": {},
   "source": [
    "## 8. boston 데이터 세트의 MEDV 칼럼을 최소최대 척도(Min-Max Scale)로 변환한 후 0.5보다 큰 값을 가지는 레코드 수를 구하시오."
   ]
  },
  {
   "cell_type": "code",
   "execution_count": 163,
   "metadata": {},
   "outputs": [
    {
     "data": {
      "text/plain": [
       "106"
      ]
     },
     "execution_count": 163,
     "metadata": {},
     "output_type": "execute_result"
    }
   ],
   "source": [
    "import pandas as pd\n",
    "from sklearn.preprocessing import MinMaxScaler\n",
    "\n",
    "data = pd.read_csv('boston.csv')\n",
    "\n",
    "scaler = MinMaxScaler()\n",
    "\n",
    "# 최소최대척도로 변환\n",
    "\n",
    "data_minmax = scaler.fit_transform(data)     \n",
    "# 이렇게 하면 판다스 형식이 아니라 넘파이 형식이 됨. 다시 판다스로 바꿔주기\n",
    "data_minmax = pd.DataFrame(data_minmax, columns = data.columns)\n",
    "data_minmax[data_minmax['MEDV'] > 0.5]['MEDV'].count()"
   ]
  },
  {
   "cell_type": "markdown",
   "metadata": {},
   "source": [
    "## 9. boston데이터 세트의 AGE칼럼을 소수점 첫번째 자리에서 반올림하고, 가장 많은 비중을 차지하는 AGE 값과 그 개수를 차례대로 출력하시오. 즉, AGE 칼럼의 최빈값과 그 개수를 출력하시오."
   ]
  },
  {
   "cell_type": "code",
   "execution_count": 178,
   "metadata": {},
   "outputs": [
    {
     "name": "stdout",
     "output_type": "stream",
     "text": [
      "100 43\n"
     ]
    }
   ],
   "source": [
    "import pandas as pd\n",
    "\n",
    "data = pd.read_csv('boston.csv')\n",
    "\n",
    "data_round = data['AGE'].round()\n",
    "\n",
    "# 최빈값을 구하기 위해 scipy라이브러리의 mode 함수 호출\n",
    "from scipy.stats import mode\n",
    "\n",
    "# mode(data_round)[0]\n",
    "# mode(data_round)[1] => array([43]) 이런식으로 나오므로 숫자로 바꿔주기 위해 int\n",
    "\n",
    "print(int(mode(data_round)[0]), int(mode(data_round)[1]))"
   ]
  },
  {
   "cell_type": "markdown",
   "metadata": {},
   "source": [
    "## 10. boston데이터 세트의 DIS 칼럼을 표준화 척도(Standard Scale)로 변환한 후, 0.4보다 크면서 0.6보다 작은 값들에 대한 평균을 구하시오. 단, 소수점 셋째 자리에서 반올림하여 소수점 둘째 자리까지 출력하시오."
   ]
  },
  {
   "cell_type": "code",
   "execution_count": 196,
   "metadata": {},
   "outputs": [
    {
     "name": "stdout",
     "output_type": "stream",
     "text": [
      "0.48\n"
     ]
    }
   ],
   "source": [
    "import pandas as pd\n",
    "from sklearn.preprocessing import StandardScaler\n",
    "\n",
    "data = pd.read_csv('boston.csv')\n",
    "\n",
    "scaler = StandardScaler()\n",
    "\n",
    "data_scaler = scaler.fit_transform(data)\n",
    "data_scaler = pd.DataFrame(data_scaler, columns = data.columns)\n",
    "ans = data_scaler[(data_scaler['DIS'] > 0.4) & (data_scaler['DIS'] < 0.6)]['DIS'].mean()\n",
    "print(round(ans, 2))"
   ]
  },
  {
   "cell_type": "markdown",
   "metadata": {},
   "source": [
    "## 11. boston 데이터 세트의 전체 칼럼에 대해서 중복을 제거한 유니크한 값을 구한 후, 칼럼별로 유니크한 값의 개수를 기준으로 평균값을 구하시오."
   ]
  },
  {
   "cell_type": "code",
   "execution_count": 216,
   "metadata": {},
   "outputs": [
    {
     "name": "stdout",
     "output_type": "stream",
     "text": [
      "218.0\n"
     ]
    }
   ],
   "source": [
    "import pandas as pd\n",
    "\n",
    "data = pd.read_csv('boston.csv')\n",
    "\n",
    "col = data.columns\n",
    "sum = 0\n",
    "\n",
    "for i in col:\n",
    "    sum += data[i].nunique()\n",
    "\n",
    "print(sum / len(col))"
   ]
  },
  {
   "cell_type": "markdown",
   "metadata": {},
   "source": [
    "# iris 데이터"
   ]
  },
  {
   "cell_type": "markdown",
   "metadata": {},
   "source": [
    "## 1. iris 데이터에서 species 변수 값별로 petal_width 상위 25% 값을 구한 후, 가장 큰 값과 가장 작은값 사이의 차이를 계산하시오."
   ]
  },
  {
   "cell_type": "code",
   "execution_count": null,
   "metadata": {},
   "outputs": [],
   "source": [
    "# 1번\n",
    "## 정답: 2\n",
    "\n",
    "print(data.groupby(['species'])['petal_width'].quantile([0.75]))"
   ]
  },
  {
   "cell_type": "markdown",
   "metadata": {},
   "source": [
    "## 2. iris 데이터에서 sepal_length 변수의 전체 값들을 중복 없이 리스트로 만든 후, 오름차순으로 정렬했을 때 리스트의 10번째에 오는 숫자를 계산하시오."
   ]
  },
  {
   "cell_type": "code",
   "execution_count": null,
   "metadata": {},
   "outputs": [],
   "source": [
    "# 2번\n",
    "## 정답: 5.2\n",
    "\n",
    "lst = data['sepal_length'].unique().tolist()\n",
    "lst.sort()\n",
    "lst[9]"
   ]
  },
  {
   "cell_type": "markdown",
   "metadata": {},
   "source": [
    "## 3. iris 데이터에서 sepal_width 변수 값으로 내림차순한 후 위에서부터 100개 행을 학습 데이터로 분리하고, 학습 데이터에서 sepal_width의 표준편차 값을 구한 후 50을 곱한 값을 계산하시오(최종계산값의 소수점 이하는 버린다)"
   ]
  },
  {
   "cell_type": "code",
   "execution_count": null,
   "metadata": {},
   "outputs": [],
   "source": [
    "# 3번\n",
    "## 정답: 16\n",
    "\n",
    "sorted_data = data.sort_values(by = 'sepal_width', ascending = False).reset_index(drop = True)\n",
    "sorted_data_split = sorted_data.head(100)\n",
    "int(sorted_data_split['sepal_width'].std()*50)"
   ]
  },
  {
   "cell_type": "markdown",
   "metadata": {},
   "source": [
    "## 4. iris데이터에서 species 변수 값별로 petal_length 상위 10개 행(큰 값)의 평균값을 구한 후, 평균값의 합을 계산하시오(최종 계산 값의 소수점 이하는 반올림한다)"
   ]
  },
  {
   "cell_type": "code",
   "execution_count": null,
   "metadata": {},
   "outputs": [],
   "source": [
    "# 4번\n",
    "## 정답: 13\n",
    "\n",
    "data = data.sort_values(by = ['species', 'petal_length'], ascending = [True, False])\n",
    "data_top10 = data.groupby(['species'].head(10))\n",
    "print(round(data_top10.groupby(['species'])['petal_length'].mean().sum*()))"
   ]
  },
  {
   "cell_type": "markdown",
   "metadata": {},
   "source": [
    "## 5. iris 데이터에서 sepal_length 변수가 이상치를 가지는 데이터 행 수를 계산하시오(단, 이상치 범위는 (평균 + 2 * 표준편차) 이상이거나 (평균 - 2 * 표준편차)이하이다)"
   ]
  },
  {
   "cell_type": "code",
   "execution_count": null,
   "metadata": {},
   "outputs": [],
   "source": [
    "# 5번\n",
    "## 정답: 6\n",
    "\n",
    "mean = data['sepal_length'].mean()\n",
    "std = data['sepal_length'].std()\n",
    "crit1 = mean + 2*std\n",
    "crit2 = mean - 2*std\n",
    "data[(data['sepal_length'] >= crit1)|(data['sepal_length'] <= crit2)]"
   ]
  },
  {
   "cell_type": "markdown",
   "metadata": {},
   "source": [
    "# wine 데이터"
   ]
  },
  {
   "cell_type": "markdown",
   "metadata": {},
   "source": [
    "## 1. wine데이터에서 total_phenols 결측치를 제거하고 alcalinity_of_ash 변수의 결측치는 중앙값으로 대체한 후, alcalinity_of_ash 평균값을 계산하시오(최종 계산 값의 소수점 이하는 버린다)"
   ]
  },
  {
   "cell_type": "code",
   "execution_count": null,
   "metadata": {},
   "outputs": [],
   "source": [
    "# 1번\n",
    "## 정답: 19\n",
    "\n",
    "data_drop = data[data['total_phenols'].notnull()]\n",
    "med = data_drop['alcalinity_of_ash'].median()\n",
    "data_drop.loc[data_drop['alcalinity_of_ahs'].isna(), 'alcalinity_of_ash'] = med\n",
    "print(data_drop['alcalinity_of_ash'].mean())"
   ]
  },
  {
   "cell_type": "markdown",
   "metadata": {},
   "source": [
    "## 2. wine 데이터에서 alcohol 값이 alcohol 평균값 이상이고, color_intensity값이 color_intensity 평균값 이상인 데이터만 남겼을 때, 가장 많은 class 값을 구하시오"
   ]
  },
  {
   "cell_type": "code",
   "execution_count": null,
   "metadata": {},
   "outputs": [],
   "source": [
    "# 2번\n",
    "## 정답: 0\n",
    "\n",
    "mean_val1 = data['alcohol'].mean()\n",
    "mean_val2 = data['color_intensity'].mean()\n",
    "data_filtered = data[(data['alcohol'] >= mean_val1) & (data['color_intensity'] >= mean_val2)]\n",
    "print(data_filtered['class'].value_counts())"
   ]
  },
  {
   "cell_type": "markdown",
   "metadata": {},
   "source": [
    "## 3. wine데이터에서 class 1에 해당하는 데이터의 ash 평균값과 wine데이터의 모든 결측치를 제거한 후의 ash 값의 평균값의 차이의 절댓값을 계산하시오(최종 계산 값의 소수점 아래 4번째 자리에서 반올림한다)"
   ]
  },
  {
   "cell_type": "code",
   "execution_count": null,
   "metadata": {},
   "outputs": [],
   "source": [
    "# 3번\n",
    "## 정답: 0.12\n",
    "\n",
    "print(data.head(1).T)\n",
    "\n",
    "val1 = data[data['class'] == 1]['ash'].mean()\n",
    "val2 = data.dropna().['ash'].mean()\n",
    "print(round(abs(val1-val2), 3))"
   ]
  },
  {
   "cell_type": "markdown",
   "metadata": {},
   "source": [
    "## 4. wine데이터에서 alcohol 변수의 상위에서 20번째 값 alcohol을 오름차순 정렬했을 때 20번째에 위치한 값으로 상위 20개의 값을 변환한 후, proanthocyanins가 2이하인 데이터를 추출하여 alcohol의 평균값을 계산하시오(최종 계산 값의 소수점 아래 3번째 자리에서 반올림한다)"
   ]
  },
  {
   "cell_type": "code",
   "execution_count": null,
   "metadata": {},
   "outputs": [],
   "source": [
    "# 4번\n",
    "## 정답: 12.94\n",
    "\n",
    "data_sorted = data.sort_values(by = 'alcohol')\n",
    "data_sorted.loc[0:19, 'alcohol'] = data_sorted.loc[19, 'alcohol']\n",
    "print(round(data_sorted[data_sorted['proanthocyanins'] <= 2]['alcohol'].mean(), 2))"
   ]
  },
  {
   "cell_type": "markdown",
   "metadata": {},
   "source": [
    "## 5. wine데이터에서 class 1에 해당하는 데이터의 proline 변수의 제3사분위수와 제1사분위수 차를 구하고, class 2에 해당하는 데이터의 proline 변수의 제3사분위수와 제1사분위수 차를 구하여 두 값의 차이의 절대값을 계산하시오"
   ]
  },
  {
   "cell_type": "code",
   "execution_count": null,
   "metadata": {},
   "outputs": [],
   "source": [
    "# 5번\n",
    "## 정답: 68.5\n",
    "\n",
    "class1_q1, class1_q3 = data[data['class'] == 1]['proline'].quantile([0.25, 0.75])\n",
    "class2_q1, class2_q3 = data[data['class'] == 2]['proline'].quantile([0.25, 0.75])\n",
    "print(abs((class1_q3 - class1_q1) - (class2_q3 - class2_q1)))"
   ]
  },
  {
   "cell_type": "markdown",
   "metadata": {},
   "source": [
    "# 21년 3회 기출"
   ]
  },
  {
   "cell_type": "markdown",
   "metadata": {},
   "source": [
    "## 1. 다음은 california housing 데이터 세트이다. 데이터 중 결측치가 있는 경우 해당 데이터의 행을 모두 제거하고, 첫번째 행부터 순서대로 70%까지의 데이터를 훈련 데이터로 추출한 데이터 세트를 구성한다. 변수 중 'housing_median_age'의 Q1(제1사분위수) 값을 정수로 계산하시오"
   ]
  },
  {
   "cell_type": "code",
   "execution_count": null,
   "metadata": {},
   "outputs": [],
   "source": [
    "# 1번\n",
    "## 정답: 19\n",
    "\n",
    "housing_dropna = housing.dropna(inplace = False)\n",
    "print(len(housing))\n",
    "print(len(housing_dropna))\n",
    "\n",
    "husing_dropna_70 = housing_dropna.iloc[:int(len(housing_dropna) * 0.7)]\n",
    "print(len(housing_dropna_70))\n",
    "\n",
    "result = int(housing_dropna_70['housing_median_age'].quantile(0.25))\n",
    "print(result)"
   ]
  },
  {
   "cell_type": "markdown",
   "metadata": {},
   "source": [
    "## 2. 다음은 국가별 연도별 인구 10만명당 결핵 유병률 데이터 세트이다. 2000년도의 국가별 결핵 유병률 데이터 세트에서 2000년도의 평균값보다 더 큰 유병률 값을 가진 국가의 수를 계산하시오."
   ]
  },
  {
   "cell_type": "code",
   "execution_count": null,
   "metadata": {},
   "outputs": [],
   "source": [
    "# 2번\n",
    "## 정답: 76\n",
    "\n",
    "disease_2000 = disease[disease['year'] == 2000]\n",
    "print(disease_2000)\n",
    "\n",
    "disease_2000_T = disease_2000.T\n",
    "disease_2000_T_drop = disease_2000_T.drop(['year'], axis = 0)\n",
    "disease_2000_T_drop.columns = ['value']\n",
    "print(disease_2000_T_drop)\n",
    "\n",
    "mean = disease_2000_T_drop['value'].mean()\n",
    "print(mean)\n",
    "\n",
    "disease_final = disease_2000_T_drop[disease_2000_T_drop['value'] > mean]\n",
    "print(disease_final)\n",
    "\n",
    "result = len(disease_final)\n",
    "print(result)"
   ]
  },
  {
   "cell_type": "markdown",
   "metadata": {},
   "source": [
    "## 3. 다음은 titanic 데이터 세트이다. 주어진 데이터 세트의 칼럼 중 빈 값 또는 결측치를 확인하여, 결측치의 비율이 가장 높은 변수명을 출력하시오."
   ]
  },
  {
   "cell_type": "code",
   "execution_count": null,
   "metadata": {},
   "outputs": [],
   "source": [
    "# 3번\n",
    "## 정답: Age\n",
    "\n",
    "titanic_isna = titanic.isna().sum()\n",
    "print(titanic_isna)\n",
    "\n",
    "max_ind = titanic_isna.argmax()\n",
    "print(max_ind)\n",
    "\n",
    "result = titanic_isna.index[max_ind]\n",
    "print(result)"
   ]
  },
  {
   "cell_type": "markdown",
   "metadata": {},
   "source": [
    "# 21년 2회 기출"
   ]
  },
  {
   "cell_type": "markdown",
   "metadata": {},
   "source": [
    "## 1. 다음은 boston housing 데이터 세트이다. 범죄율 칼럼인 crim 항목의 상위에서 10번째 값(즉, 범죄율을 큰 순서로 오름차순 정렬했을 때 10번째에 위치한 값)으로 상위 10개의 값을 변환한 후, age가 80 이상인 데이터를 추출하여 crim의 평균값을 계산하시오"
   ]
  },
  {
   "cell_type": "code",
   "execution_count": null,
   "metadata": {},
   "outputs": [],
   "source": [
    "# 1번\n",
    "## 정답: 5.7593866249999\n",
    "\n",
    "boston_sort = boston.sort_values('CRIM', ascending = False)\n",
    "print(boston_sort.head(12))\n",
    "\n",
    "crim10_value = boston_sort.iloc[9, 0]\n",
    "print(crim10_value)\n",
    "\n",
    "boston_sort.iloc[:9, 0] = crim10_value\n",
    "print(boston_sort.head(12))\n",
    "\n",
    "boston_sort_80 = boston_sort[boston_sort['AGE'] >= 90]\n",
    "result = boston_sort_80['CRIM'].mean()\n",
    "print(result)"
   ]
  },
  {
   "cell_type": "markdown",
   "metadata": {},
   "source": [
    "## 2. 다음은 california housing 데이터 세트이다. 주어진 데이터의 첫번째 행부터 순서대로 80%까지의 데이터를 훈련 데이터로 추출 후, 전체 방 개수 칼럼을 의미하는 'total bedrooms' 변수의 결측치를 'total_bedrooms' 변수의 중앙값으로 대체한 데이터 세트를 구성한다. 결측치 대체 전의 'total_bedrooms' 변수 표준편차 값과 결측치 대체 후의 'total_bedrooms' 변수 표준편차 값의 차이에 대한 절대값을 계산하시오"
   ]
  },
  {
   "cell_type": "code",
   "execution_count": null,
   "metadata": {},
   "outputs": [],
   "source": [
    "# 2번\n",
    "## 정답: 1.975147291645726\n",
    "\n",
    "value = int(len(housing) * 0.8)\n",
    "bedrooms = housing['total_bedrooms'][:value]\n",
    "print(bedrooms)\n",
    "\n",
    "std1 = bedrooms.std()\n",
    "print(std1)\n",
    "\n",
    "med = bedrooms.median()\n",
    "print(med)\n",
    "\n",
    "bedrooms_fill = bedrooms.fillna(med)\n",
    "std2 = bedrooms_fill.std()\n",
    "print(std2)\n",
    "\n",
    "result = abs(std1 - std2)\n",
    "print(result)"
   ]
  },
  {
   "cell_type": "markdown",
   "metadata": {},
   "source": [
    "## 3. 2번 문항에서 활용한 california housing 데이터 세트에서 인구 칼럼인 population 항목의 이상값의 합계를 계산하시오(이상값은 평균에서 1.5 * 표준편차를 초과하거나 미만인 값의 범위로 정한다)"
   ]
  },
  {
   "cell_type": "code",
   "execution_count": null,
   "metadata": {},
   "outputs": [],
   "source": [
    "# 3번\n",
    "## 정답: 5607295.0\n",
    "\n",
    "population = housing['population']\n",
    "mean = population.mean()\n",
    "std = population.std()\n",
    "\n",
    "print(mean)\n",
    "print(std)\n",
    "\n",
    "lower = mean - (std * 1.5)\n",
    "upper = mean + (std * 1.5)\n",
    "\n",
    "print(lower)\n",
    "print(upper)\n",
    "\n",
    "population_outlier = population[(population < lower) | (population > upper)]\n",
    "print(population_outlier)\n",
    "\n",
    "result = population.outlier.sum()\n",
    "print(result)"
   ]
  }
 ],
 "metadata": {
  "kernelspec": {
   "display_name": "Python 3",
   "language": "python",
   "name": "python3"
  },
  "language_info": {
   "codemirror_mode": {
    "name": "ipython",
    "version": 3
   },
   "file_extension": ".py",
   "mimetype": "text/x-python",
   "name": "python",
   "nbconvert_exporter": "python",
   "pygments_lexer": "ipython3",
   "version": "3.7.6"
  }
 },
 "nbformat": 4,
 "nbformat_minor": 4
}
